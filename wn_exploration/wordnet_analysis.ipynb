{
 "cells": [
  {
   "cell_type": "markdown",
   "metadata": {},
   "source": [
    "# Semantic Network Analysis\n",
    "\n",
    "Yuval Pinter, 2017-2018\n",
    "\n",
    "## Description\n",
    "Here we will analyze the graph structure of WordNet, a semantic resource mapping lemmatized English words to senses, and senses to senses related to them across multiple relation types.\n",
    "This notebook is an extension of a lab prepared for Georgia Tech's course [CS-8803, Computational Social Science section](https://github.com/jacobeisenstein/gt-css-class).\n",
    "\n",
    "First, let's get our dependencies and load the data."
   ]
  },
  {
   "cell_type": "code",
   "execution_count": 1,
   "metadata": {
    "collapsed": true
   },
   "outputs": [],
   "source": [
    "from nltk.corpus import wordnet as wn\n",
    "from collections import Counter\n",
    "\n",
    "import numpy as np\n",
    "import random as rd\n",
    "import networkx as nx\n",
    "import matplotlib.pyplot as plt\n",
    "%matplotlib inline\n",
    "%load_ext autoreload\n",
    "%autoreload 2"
   ]
  },
  {
   "cell_type": "code",
   "execution_count": 2,
   "metadata": {
    "scrolled": false
   },
   "outputs": [
    {
     "name": "stdout",
     "output_type": "stream",
     "text": [
      "Number of synsets: 117,659\n",
      "Number of lemma names: 147,306\n"
     ]
    }
   ],
   "source": [
    "# general statistics\n",
    "synsets = list(wn.all_synsets())\n",
    "lemmata = list(wn.all_lemma_names())\n",
    "print(f'Number of synsets: {len(synsets):,}\\nNumber of lemma names: {len(lemmata):,}')"
   ]
  },
  {
   "cell_type": "markdown",
   "metadata": {},
   "source": [
    "## Lemma X Sense graph\n",
    "Let's create a network mapping synsets to lemmata and make sure it's bipartite."
   ]
  },
  {
   "cell_type": "code",
   "execution_count": 3,
   "metadata": {
    "collapsed": true
   },
   "outputs": [],
   "source": [
    "wsg = nx.Graph()\n",
    "wsg.add_nodes_from(synsets)\n",
    "for l in set(lemmata):\n",
    "    wsg.add_node(l)\n",
    "    for ls in wn.synsets(l):\n",
    "        wsg.add_edge(l,ls)"
   ]
  },
  {
   "cell_type": "code",
   "execution_count": 4,
   "metadata": {
    "scrolled": true
   },
   "outputs": [
    {
     "data": {
      "text/plain": [
       "True"
      ]
     },
     "execution_count": 4,
     "metadata": {},
     "output_type": "execute_result"
    }
   ],
   "source": [
    "nx.is_bipartite(wsg)"
   ]
  },
  {
   "cell_type": "markdown",
   "metadata": {},
   "source": [
    "Following up with some analysis following measures formulated in:\n",
    "```\n",
    "Sigman, Mariano, and Guillermo A. Cecchi. \"Global organization of the Wordnet lexicon.\" Proceedings of the National Academy of Sciences 99.3 (2002): 1742-1747.\n",
    "```\n",
    "\n",
    "### Polysemy Graph\n",
    "The polysemy graph connects a synset with another based on the fact that they share a lemma (think `financial institute` <=> `side of a river`).\n",
    "This graph does not explicitly appear in WordNet, so we're creating it by **projecting** the bipartite synset/lemma graph (using the built-in function from `networkx`)."
   ]
  },
  {
   "cell_type": "code",
   "execution_count": 5,
   "metadata": {},
   "outputs": [
    {
     "name": "stdout",
     "output_type": "stream",
     "text": [
      "Number of nodes: 117,659\n",
      "Number of edges: 234,577\n"
     ]
    }
   ],
   "source": [
    "polys_g = nx.project(wsg, synsets)\n",
    "print(f'Number of nodes: {len(polys_g.nodes()):,}')\n",
    "print(f'Number of edges: {len(polys_g.edges()):,}')"
   ]
  },
  {
   "cell_type": "code",
   "execution_count": 6,
   "metadata": {
    "collapsed": true
   },
   "outputs": [],
   "source": [
    "def pos_connected(e, directed=True) -> tuple:\n",
    "    \"\"\"\n",
    "    A function telling us which parts-of-speech are participating in an edge\n",
    "    :param e: an nx edge\n",
    "    :param directed: True iff we care about which node comes first (not so for polysemy)\n",
    "    \"\"\"\n",
    "    if not directed:\n",
    "        return tuple(sorted([e[0].pos(), e[1].pos()]))\n",
    "    return (e[0].pos(), e[1].pos())\n",
    "\n",
    "def pos_connections(graph: nx.Graph, directed=True) -> Counter:\n",
    "    \"\"\"\n",
    "    Counts part-of-speech relations in a graph.\n",
    "    \"\"\"\n",
    "    return Counter([pos_connected(e, directed) for e in graph.edges()])"
   ]
  },
  {
   "cell_type": "code",
   "execution_count": 7,
   "metadata": {},
   "outputs": [
    {
     "name": "stdout",
     "output_type": "stream",
     "text": [
      "Connection count sanity check: 234,577\n",
      "n <-> v: 62,170 times\n",
      "n <-> n: 60,674 times\n",
      "v <-> v: 49,993 times\n",
      "s <-> v: 18,556 times\n",
      "s <-> s: 9,948 times\n",
      "n <-> s: 8,581 times\n",
      "a <-> s: 6,309 times\n",
      "a <-> v: 5,482 times\n",
      "a <-> n: 3,844 times\n",
      "r <-> s: 2,421 times\n",
      "r <-> r: 1,884 times\n",
      "a <-> a: 1,829 times\n",
      "n <-> r: 1,259 times\n",
      "a <-> r: 814 times\n",
      "r <-> v: 813 times\n"
     ]
    }
   ],
   "source": [
    "pos_polysems = pos_connections(polys_g, False)\n",
    "print(f'Connection count sanity check: {sum(pos_polysems.values()):,}')\n",
    "print('\\n'.join([f'{p1} <-> {p2}: {ct:,} times' for (p1,p2),ct in pos_polysems.most_common()]))"
   ]
  },
  {
   "cell_type": "markdown",
   "metadata": {},
   "source": [
    "That's a lot of polysemy.\n",
    "It's interesting to see that the commonest case is verb/noun polysemy, usually known as zero-derivation.\n",
    "\n",
    "### Back to the original, unprojected graph\n",
    "The graph will very likely not be connected. If language is by any means regular, it will have a lot of connected components, too, indicating that it's very far from possible to travel through a language just by lemma-synset relations."
   ]
  },
  {
   "cell_type": "code",
   "execution_count": 8,
   "metadata": {},
   "outputs": [
    {
     "data": {
      "text/plain": [
       "64835"
      ]
     },
     "execution_count": 8,
     "metadata": {},
     "output_type": "execute_result"
    }
   ],
   "source": [
    "len(list(nx.connected_components(wsg)))"
   ]
  },
  {
   "cell_type": "markdown",
   "metadata": {},
   "source": [
    "This is about a ratio of 2 synsets per component.\n",
    "I'm guessing these are centered around some really high-frequency, multi-sensed lemmata. Let's verify this:"
   ]
  },
  {
   "cell_type": "code",
   "execution_count": 9,
   "metadata": {},
   "outputs": [
    {
     "name": "stdout",
     "output_type": "stream",
     "text": [
      "The largest connected component is of size 68,884\n"
     ]
    }
   ],
   "source": [
    "conncomps = list(nx.connected_components(wsg))\n",
    "largest_cc = conncomps[np.argmax([len(cc) for cc in conncomps])]\n",
    "print(f'The largest connected component is of size {len(largest_cc):,}')"
   ]
  },
  {
   "cell_type": "code",
   "execution_count": 10,
   "metadata": {
    "scrolled": true
   },
   "outputs": [
    {
     "name": "stdout",
     "output_type": "stream",
     "text": [
      "The number of lemmata in the largest cc: 32,011\n",
      "The number of synsets in the largest cc: 36,873\n",
      "\n",
      "Parts of speech in largest cc:\n",
      "n: 18,150\tv: 10,437\ts: 5,329\ta: 2,212\tr: 745\n"
     ]
    }
   ],
   "source": [
    "largest_cc_lemmata = [n for n in largest_cc if type(n) == str]\n",
    "largest_cc_synsets = [n for n in largest_cc if type(n) != str]\n",
    "print(f'The number of lemmata in the largest cc: {len(largest_cc_lemmata):,}')\n",
    "print(f'The number of synsets in the largest cc: {len(largest_cc_synsets):,}')\n",
    "\n",
    "# part-of speech analysis\n",
    "l_cc_poss = [s.pos() for s in largest_cc_synsets]\n",
    "print('\\nParts of speech in largest cc:')\n",
    "print('\\t'.join([f'{pos}: {ct:,}' for pos,ct in Counter(l_cc_poss).most_common()]))"
   ]
  },
  {
   "cell_type": "markdown",
   "metadata": {},
   "source": [
    "Yes. This one big connected component is a total mess, which shows us why sense mapping is necessary - projecting WordNet's sense relations onto lemmata would introduce so much noise into what we will see below are pretty clean graphs.\n",
    "\n",
    "#### Centrality measurement"
   ]
  },
  {
   "cell_type": "code",
   "execution_count": 11,
   "metadata": {},
   "outputs": [
    {
     "name": "stdout",
     "output_type": "stream",
     "text": [
      "Most central nodes:\n",
      "break\t0.00028\n",
      "broken\t0.00027\n",
      "cut\t0.00026\n",
      "broke\t0.00023\n",
      "breaking\t0.00023\n",
      "run\t0.00022\n",
      "cutting\t0.00020\n",
      "play\t0.00020\n",
      "making\t0.00020\n",
      "made\t0.00020\n"
     ]
    }
   ],
   "source": [
    "cent = nx.centrality.degree_centrality(wsg)\n",
    "print('Most central nodes:')\n",
    "print('\\n'.join([f'{n}\\t{c:.5f}' for n,c in sorted(cent.items(), key=lambda x: -x[1])][:10]))"
   ]
  },
  {
   "cell_type": "markdown",
   "metadata": {},
   "source": [
    "So four of the five most central nodes, all lemmata (a central synset would have been surprising), are derivations of the word `break`, and though noun synsets are the largest class, these are not quite represented in the most central nodes. This suggests that words become central less by cross-POS zero-derivation and more by POS-internal polysemy.\n",
    "\n",
    "#### Lemma-level projection"
   ]
  },
  {
   "cell_type": "code",
   "execution_count": 12,
   "metadata": {
    "collapsed": true
   },
   "outputs": [],
   "source": [
    "lem_nodes = [n for n in wsg.nodes() if type(n) == str]\n",
    "proj = nx.projected_graph(wsg, lem_nodes)"
   ]
  },
  {
   "cell_type": "code",
   "execution_count": 13,
   "metadata": {},
   "outputs": [
    {
     "data": {
      "image/png": "[encoded data removed]",
      "text/plain": [
       "<matplotlib.figure.Figure at 0x23586982748>"
      ]
     },
     "metadata": {},
     "output_type": "display_data"
    }
   ],
   "source": [
    "proj_degs = {lem:nx.degree(proj,lem) for lem in lem_nodes}\n",
    "plt.loglog(sorted(proj_degs.values(),reverse=True));"
   ]
  },
  {
   "cell_type": "markdown",
   "metadata": {},
   "source": [
    "This is actually not terribly far from a power law distribution, which is to be expected in a language resource (Zipf law)."
   ]
  },
  {
   "cell_type": "markdown",
   "metadata": {},
   "source": [
    "## Relations\n",
    "Relations are graphs within the synset network. Let's get their general densities (measured as synsets that have out degree > 0 for each relation, i.e. edges coming out of it)."
   ]
  },
  {
   "cell_type": "code",
   "execution_count": 14,
   "metadata": {
    "scrolled": true
   },
   "outputs": [
    {
     "name": "stdout",
     "output_type": "stream",
     "text": [
      "Total synsets: 117,659\n",
      "87597 have hypernyms\n",
      "20008 have hyponyms\n",
      "  390 have entailments\n",
      "  940 have attributes\n",
      "  218 have causes\n",
      " 5553 have member meronyms\n",
      "  666 have substance meronyms\n",
      " 3699 have part meronyms\n",
      "12201 have member holonyms\n",
      "  551 have substance holonyms\n",
      " 7859 have part holonyms\n",
      "13205 have similar tos\n"
     ]
    }
   ],
   "source": [
    "synsets = list(wn.all_synsets())\n",
    "\n",
    "def nonempty_rels_count(rel, dset=synsets) -> int:\n",
    "    \"\"\"\n",
    "    Computes out degree\n",
    "    \"\"\"\n",
    "    return len([s for s in synsets if len(rel(s)) > 0])\n",
    "\n",
    "print(f'Total synsets: {len(synsets):,}')\n",
    "rel_names = ['hypernyms', 'hyponyms', 'entailments', 'attributes', 'causes', 'member meronyms', \\\n",
    "             'substance meronyms', 'part meronyms', 'member holonyms', 'substance holonyms', 'part holonyms', 'similar tos']\n",
    "rel_funcs = [lambda s: s.hypernyms(), lambda s: s.hyponyms(), lambda s: s.entailments(), lambda s: s.attributes(),\\\n",
    "                      lambda s: s.causes(), lambda s: s.member_meronyms(), lambda s: s.substance_meronyms(),\\\n",
    "                      lambda s: s.part_meronyms(), lambda s: s.member_holonyms(), lambda s: s.substance_holonyms(), \\\n",
    "                      lambda s: s.part_holonyms(), lambda s: s.similar_tos()]\n",
    "\n",
    "for name, rel in zip(rel_names, rel_funcs):\n",
    "    print(f'{nonempty_rels_count(rel):5d} have {name}') # hey, anybody know how to combine `5d` and `,` string formats?"
   ]
  },
  {
   "cell_type": "markdown",
   "metadata": {},
   "source": [
    "It is clear that the \"interesting\" ones are going to be hypernyms/hyponyms, similar tos, meronym/holonym of the various types. Since these come in pairs, we'll just take the ones flowing top to bottom: hyponyms, meronyms."
   ]
  },
  {
   "cell_type": "markdown",
   "metadata": {},
   "source": [
    "## Hyponym DAG properties"
   ]
  },
  {
   "cell_type": "code",
   "execution_count": 15,
   "metadata": {
    "collapsed": true
   },
   "outputs": [],
   "source": [
    "def graphify(relation) -> nx.DiGraph:\n",
    "    \"\"\"\n",
    "    Create a networkx directed graph out of a WordNet synset relation type\n",
    "    \"\"\"\n",
    "    relg = nx.DiGraph()\n",
    "    relg.add_nodes_from(synsets)\n",
    "    for s in synsets:\n",
    "        targets = relation(s)\n",
    "        relg.add_edges_from(zip([s] * len(targets), targets))\n",
    "    return relg"
   ]
  },
  {
   "cell_type": "code",
   "execution_count": 16,
   "metadata": {
    "collapsed": true
   },
   "outputs": [],
   "source": [
    "hypg = graphify(lambda s: s.hyponyms())"
   ]
  },
  {
   "cell_type": "markdown",
   "metadata": {},
   "source": [
    "Let's make sure it's acyclic"
   ]
  },
  {
   "cell_type": "code",
   "execution_count": 17,
   "metadata": {},
   "outputs": [
    {
     "name": "stdout",
     "output_type": "stream",
     "text": [
      "There are 1 cycles in the hyponym graph (should be zero)\n"
     ]
    }
   ],
   "source": [
    "# this'll take a while\n",
    "hyponym_cycles = list(nx.cycles.simple_cycles(hypg))\n",
    "print(f'There are {len(hyponym_cycles)} cycles in the hyponym graph (should be zero)')"
   ]
  },
  {
   "cell_type": "markdown",
   "metadata": {},
   "source": [
    "Wait, what?"
   ]
  },
  {
   "cell_type": "code",
   "execution_count": 18,
   "metadata": {
    "scrolled": true
   },
   "outputs": [
    {
     "data": {
      "text/plain": [
       "[Synset('inhibit.v.04'), Synset('restrain.v.01')]"
      ]
     },
     "execution_count": 18,
     "metadata": {},
     "output_type": "execute_result"
    }
   ],
   "source": [
    "hyponym_cycles[0]"
   ]
  },
  {
   "cell_type": "markdown",
   "metadata": {},
   "source": [
    "OK, this is a mistake. It's not seen in the hypernym graph, nor in the current [WordNet navigation tool, version 3.1](http://wordnetweb.princeton.edu/perl/webwn), which means that this was probably found and fixed by the WordNet curators."
   ]
  },
  {
   "cell_type": "code",
   "execution_count": 19,
   "metadata": {},
   "outputs": [
    {
     "data": {
      "text/plain": [
       "True"
      ]
     },
     "execution_count": 19,
     "metadata": {},
     "output_type": "execute_result"
    }
   ],
   "source": [
    "hypg.remove_edge(wn.synset('inhibit.v.04'), wn.synset('restrain.v.01'))\n",
    "nx.dag.is_directed_acyclic_graph(hypg)"
   ]
  },
  {
   "cell_type": "markdown",
   "metadata": {},
   "source": [
    "Better. Now to make sure the transformation went as expected:"
   ]
  },
  {
   "cell_type": "code",
   "execution_count": 28,
   "metadata": {},
   "outputs": [
    {
     "name": "stdout",
     "output_type": "stream",
     "text": [
      "20008 synsets have hyponyms\n"
     ]
    }
   ],
   "source": [
    "# sanity check, should be 20008\n",
    "\n",
    "odeg_dist = Counter([x[1] for x in hypg.out_degree()])\n",
    "print(f'{sum(odeg_dist.values()) - odeg_dist[0]} synsets have hyponyms')"
   ]
  },
  {
   "cell_type": "markdown",
   "metadata": {},
   "source": [
    "And that there is very little transitivity, if at all (WordNet wasn't built to include redundant information):"
   ]
  },
  {
   "cell_type": "code",
   "execution_count": 29,
   "metadata": {},
   "outputs": [
    {
     "name": "stdout",
     "output_type": "stream",
     "text": [
      "The proportion of two-paths where the first source is connected to the second target is 1.0739941708966374e-05\n"
     ]
    }
   ],
   "source": [
    "print(f'The proportion of two-paths where the first source is connected to the second target is {nx.transitivity(hypg)}')"
   ]
  },
  {
   "cell_type": "markdown",
   "metadata": {},
   "source": [
    "Not zero, oddly enough, but we'll leave that one be. It's pretty tiny.\n",
    "\n",
    "Let's find the root(s), i.e. un-generalizable concepts that nevertheless have hyponyms."
   ]
  },
  {
   "cell_type": "code",
   "execution_count": 33,
   "metadata": {},
   "outputs": [],
   "source": [
    "in_out_degs = {n:(i,o) for ((n,i),(n,o)) in zip(hypg.in_degree(), hypg.out_degree())}\n",
    "roots = [n for n,(i,o) in in_out_degs.items() if i == 0 and o > 0]"
   ]
  },
  {
   "cell_type": "code",
   "execution_count": 34,
   "metadata": {},
   "outputs": [
    {
     "name": "stdout",
     "output_type": "stream",
     "text": [
      "Number of hyponym graph roots is 347\n",
      "Roots with largest subgraphs:\n",
      "entity.n.01 : 74,374\n",
      "change.v.01 : 1,704\n",
      "change.v.02 : 1,295\n",
      "act.v.01 : 1,083\n",
      "move.v.02 : 1,027\n",
      "make.v.03 : 659\n",
      "travel.v.01 : 526\n",
      "think.v.03 : 451\n",
      "transfer.v.05 : 420\n",
      "move.v.03 : 329\n"
     ]
    }
   ],
   "source": [
    "print(f'Number of hyponym graph roots is {len(roots)}')\n",
    "subtrees = {r:len(nx.dfs_tree(hypg, r)) for r in roots}\n",
    "print('Roots with largest subgraphs:')\n",
    "for x in sorted(subtrees.items(), key=lambda x:-x[1])[:10]:\n",
    "    print(f'{x[0].name()} : {x[1]:,}')"
   ]
  },
  {
   "cell_type": "markdown",
   "metadata": {},
   "source": [
    "There's many roots, and the ones with large hyponym sets (including transitive closure) are indeed broad concepts. Interestingly, almost all nouns are clustered into one huge sub-DAG under `entity` whereas the verb space is more decentralized (although not necessarily disconnected - these are not roots of trees, since multiple hypernyms do exist for some synsets).\n",
    "\n",
    "Let's explore two similarly-sized sub-trees, the ones for `act` and `move`, and see if they are organized similarly. We'll take our inspiration from the [chain-letter paper](http://www.pnas.org/content/105/12/4633.abstract) and use their three measures."
   ]
  },
  {
   "cell_type": "code",
   "execution_count": 35,
   "metadata": {},
   "outputs": [
    {
     "name": "stdout",
     "output_type": "stream",
     "text": [
      "Act has 1,083 hyponyms, Move has 1,027\n",
      "They have 0 hyponyms in common\n"
     ]
    }
   ],
   "source": [
    "act_root = wn.synset('act.v.01')\n",
    "move_root = wn.synset('move.v.02')\n",
    "act_st = nx.dfs_tree(hypg, act_root)\n",
    "move_st = nx.dfs_tree(hypg, move_root)\n",
    "print(f'Act has {len(act_st):,} hyponyms, Move has {len(move_st):,}') # verification\n",
    "print(f'They have {len([s for s in act_st if s in move_st])} hyponyms in common') # intersection (not necessarily 0, since this is a DAG)"
   ]
  },
  {
   "cell_type": "markdown",
   "metadata": {},
   "source": [
    "Their first measure is the fraction of nodes that have a single child."
   ]
  },
  {
   "cell_type": "code",
   "execution_count": 37,
   "metadata": {
    "scrolled": true
   },
   "outputs": [
    {
     "name": "stdout",
     "output_type": "stream",
     "text": [
      "Single-child fraction for Act is 0.11173\n",
      "Single-child fraction for Move is 0.11392\n"
     ]
    }
   ],
   "source": [
    "def sc_frac(tree):\n",
    "    \"\"\"\n",
    "    Returns the fraction of nodes in a tree that only have one child\n",
    "    \"\"\"\n",
    "    return len([d for _,d in tree.out_degree() if d == 1]) / len(tree)\n",
    "\n",
    "print(f'Single-child fraction for Act is {sc_frac(act_st):.5f}')\n",
    "print(f'Single-child fraction for Move is {sc_frac(move_st):.5f}')"
   ]
  },
  {
   "cell_type": "markdown",
   "metadata": {},
   "source": [
    "The second measure is median subtree depth."
   ]
  },
  {
   "cell_type": "code",
   "execution_count": 38,
   "metadata": {},
   "outputs": [
    {
     "name": "stdout",
     "output_type": "stream",
     "text": [
      "Median depth for Act is 5\n",
      "Median depth for Move is 3\n"
     ]
    }
   ],
   "source": [
    "def all_depths(tree, root):\n",
    "    return [nx.shortest_path_length(tree, root, n) for n in tree]\n",
    "\n",
    "def med_depth(tree, root):\n",
    "    return int(np.median(all_depths(tree, root)))\n",
    "\n",
    "print(f'Median depth for Act is {med_depth(act_st, act_root)}')\n",
    "print(f'Median depth for Move is {med_depth(move_st, move_root)}')"
   ]
  },
  {
   "cell_type": "markdown",
   "metadata": {},
   "source": [
    "The third, and last, measure is the width of a tree, defined as the size of the largest depth-layer."
   ]
  },
  {
   "cell_type": "code",
   "execution_count": 39,
   "metadata": {},
   "outputs": [
    {
     "name": "stdout",
     "output_type": "stream",
     "text": [
      "Width for Act tree is 226\n",
      "Width for Move tree is 311\n"
     ]
    }
   ],
   "source": [
    "def tree_width(tree, root):\n",
    "    return Counter(all_depths(tree, root)).most_common(1)[0][1]\n",
    "\n",
    "print(f'Width for Act tree is {tree_width(act_st, act_root)}')\n",
    "print(f'Width for Move tree is {tree_width(move_st, move_root)}')"
   ]
  },
  {
   "cell_type": "markdown",
   "metadata": {},
   "source": [
    "So, while the single-child fraction is very similar, the `act` hyponym tree is deeper and narrower than the `move` hyponym tree. An immediate consequence is that hyponym structures don't emerge from a latent \"distribution\". In linguistic terms, what this could mean is that *movements* are more diverse in the world and happen in many contexts, whereas *actions* have less contexts but require specific denotations.\n",
    "\n",
    "To conclude this section, a production of the full degree distributions can help us visualize the structures better and see that they are not really similarly distributed."
   ]
  },
  {
   "cell_type": "code",
   "execution_count": 40,
   "metadata": {},
   "outputs": [
    {
     "data": {
      "image/png": "[encoded data removed]",
      "text/plain": [
       "<matplotlib.figure.Figure at 0x2359a81e550>"
      ]
     },
     "metadata": {},
     "output_type": "display_data"
    }
   ],
   "source": [
    "act_depths = all_depths(act_st, act_root)\n",
    "move_depths = all_depths(move_st, move_root)\n",
    "plt.hist(act_depths, bins=max(act_depths), histtype='step', label='act');\n",
    "plt.hist(move_depths, bins=max(move_depths), histtype='step', label='move');\n",
    "plt.xlabel('depth');\n",
    "plt.ylabel('number of nodes');\n",
    "plt.legend();"
   ]
  },
  {
   "cell_type": "markdown",
   "metadata": {},
   "source": [
    "These don't even seem to be from the same family - `act` is somewhat Gaussian-distributed and `move` is Poissony.\n",
    "\n",
    "## Meronym DAG\n",
    "\n",
    "Meronym relations are part-of-whole, e.g. `tree` is a meronym of `forest`."
   ]
  },
  {
   "cell_type": "code",
   "execution_count": 41,
   "metadata": {
    "collapsed": true
   },
   "outputs": [],
   "source": [
    "def all_meronyms(s):\n",
    "    return s.part_meronyms() + s.member_meronyms() + s.substance_meronyms()"
   ]
  },
  {
   "cell_type": "code",
   "execution_count": 42,
   "metadata": {},
   "outputs": [
    {
     "data": {
      "text/plain": [
       "True"
      ]
     },
     "execution_count": 42,
     "metadata": {},
     "output_type": "execute_result"
    }
   ],
   "source": [
    "merg = graphify(all_meronyms)\n",
    "\n",
    "nx.is_directed_acyclic_graph(merg)"
   ]
  },
  {
   "cell_type": "markdown",
   "metadata": {},
   "source": [
    "Good, no structural corrections needed this time. Now for the same root exploration from the hyponym graph:"
   ]
  },
  {
   "cell_type": "code",
   "execution_count": 43,
   "metadata": {
    "collapsed": true
   },
   "outputs": [],
   "source": [
    "mer_in_out_degs = {n:(i,o) for ((n,i),(n,o)) in zip(merg.in_degree(), merg.out_degree())}\n",
    "all_mer_roots = [n for n,(i,o) in mer_in_out_degs.items() if i == 0 and o > 0]"
   ]
  },
  {
   "cell_type": "code",
   "execution_count": 44,
   "metadata": {
    "scrolled": true
   },
   "outputs": [
    {
     "name": "stdout",
     "output_type": "stream",
     "text": [
      "There are 2,748 meronym graph roots\n",
      "Roots with largest subgraphs:\n",
      "animalia.n.01 : 5,853\n",
      "plantae.n.01 : 5,149\n",
      "northern_hemisphere.n.01 : 2,259\n",
      "west.n.01 : 1,942\n",
      "eastern_hemisphere.n.01 : 1,566\n",
      "north_atlantic_treaty_organization.n.01 : 1,562\n",
      "western_hemisphere.n.01 : 1,176\n",
      "america.n.02 : 1,176\n",
      "organization_of_american_states.n.01 : 1,137\n",
      "european_union.n.01 : 589\n"
     ]
    }
   ],
   "source": [
    "print(f'There are {len(all_mer_roots):,} meronym graph roots')\n",
    "all_mer_trees = {r:nx.dfs_tree(merg, r) for r in all_mer_roots}\n",
    "all_mer_tree_lengths = {r:len(t) for r,t in all_mer_trees.items()}\n",
    "\n",
    "top_ten_mer_tree_sizes = sorted(all_mer_tree_lengths.items(), key=lambda x:-x[1])[:10]\n",
    "print('Roots with largest subgraphs:')\n",
    "for x in top_ten_mer_tree_sizes:\n",
    "    print(f'{x[0].name()} : {x[1]:,}')"
   ]
  },
  {
   "cell_type": "markdown",
   "metadata": {},
   "source": [
    "The largest roots correspond to semantically very large groups, which is what we'd expect!\n",
    "\n",
    "Note that this graph is much less centralized, with much less roots. But I suspect there's going to be massive intersection in some of these."
   ]
  },
  {
   "cell_type": "code",
   "execution_count": 45,
   "metadata": {},
   "outputs": [
    {
     "name": "stdout",
     "output_type": "stream",
     "text": [
      "Proportion of American synsets that are also in OAS: 0.95075\n",
      "Proportion of American synsets that are also in EU: 0.00000\n",
      "Proportion of EU synsets that are also in NATO: 0.94058\n"
     ]
    }
   ],
   "source": [
    "nato_root = wn.synset('north_atlantic_treaty_organization.n.01')\n",
    "eu_root = wn.synset('european_union.n.01')\n",
    "oas_root = wn.synset('organization_of_american_states.n.01')\n",
    "america_root = wn.synset('america.n.02')\n",
    "\n",
    "def mer_intersection(r1, r2):\n",
    "    return len([s for s in all_mer_trees[r1] if s in all_mer_trees[r2]])\\\n",
    "                / min(len(all_mer_trees[r1]), len(all_mer_trees[r2]))\n",
    "\n",
    "print(f'Proportion of American synsets that are also in OAS: {mer_intersection(america_root, oas_root):.5f}')\n",
    "print(f'Proportion of American synsets that are also in EU: {mer_intersection(america_root, eu_root):.5f}') # should be zero\n",
    "print(f'Proportion of EU synsets that are also in NATO: {mer_intersection(eu_root, nato_root):.5f}')"
   ]
  },
  {
   "cell_type": "markdown",
   "metadata": {},
   "source": [
    "As suspected. Does this happen a lot?"
   ]
  },
  {
   "cell_type": "code",
   "execution_count": 48,
   "metadata": {},
   "outputs": [
    {
     "name": "stdout",
     "output_type": "stream",
     "text": [
      "Intersctions: 2,568\n",
      "Total tree pairs: 3,774,378\n",
      "Intersections per pair: 0.00068\n"
     ]
    }
   ],
   "source": [
    "intersections = 0\n",
    "total_pairs = 0\n",
    "only_mer_trees = list(all_mer_trees.values())\n",
    "# yes, not very efficient, I know.\n",
    "for i in range(len(only_mer_trees)):\n",
    "    for j in range(i):\n",
    "        total_pairs += 1\n",
    "        if len([s for s in only_mer_trees[i] if s in only_mer_trees[j]]) > 0:\n",
    "            intersections += 1\n",
    "print(f'Intersctions: {intersections:,}\\nTotal tree pairs: {total_pairs:,}\\nIntersections per pair: {intersections/total_pairs:.5f}')"
   ]
  },
  {
   "cell_type": "markdown",
   "metadata": {},
   "source": [
    "So the phenomenon in general is not very common, i.e. those 2,748 holonymic roots do a decent job of partitioning the data. Now let's see if the non-intersecting America, the EU, animalia, and plantae are a roughly scaled version of the same graph. Ideally we would use features like clustering for this, but clustering is undefined for directed graphs (at least in `networkx`). We'll use node degrees and single-children fraction again instead. Since the biological trees are much larger, we'll only compute the single-child fraction on non-leaves."
   ]
  },
  {
   "cell_type": "code",
   "execution_count": 50,
   "metadata": {},
   "outputs": [
    {
     "data": {
      "image/png": "[encoded data removed]",
      "text/plain": [
       "<matplotlib.figure.Figure at 0x235c9c28438>"
      ]
     },
     "metadata": {},
     "output_type": "display_data"
    }
   ],
   "source": [
    "mer_trees = {'EU': all_mer_trees[eu_root], 'America': all_mer_trees[america_root],\\\n",
    "            'Animalia': all_mer_trees[wn.synset('animalia.n.01')],\\\n",
    "            'Plantae': all_mer_trees[wn.synset('plantae.n.01')]}\n",
    "\n",
    "def int_sc_frac(tree):\n",
    "    ods = [x[1] for x in tree.out_degree()]\n",
    "    return len([d for d in ods if d == 1]) / len([d for d in ods if d > 0])\n",
    "\n",
    "mer_degmeans = {k: np.mean([x[1] for x in t.degree()]) for k,t in mer_trees.items()} # normalizing by tree size doesn't change much\n",
    "mer_scfracs = {k: int_sc_frac(t) for k,t in mer_trees.items()}\n",
    "\n",
    "plt.scatter(mer_scfracs.values(), mer_degmeans.values());\n",
    "plt.xlabel('fraction of internal single children nodes');\n",
    "plt.ylabel('mean degree')\n",
    "for tree_name in mer_trees:\n",
    "    plt.annotate(tree_name, (mer_scfracs[tree_name], mer_degmeans[tree_name]))"
   ]
  },
  {
   "cell_type": "markdown",
   "metadata": {},
   "source": [
    "These all seem far enough to uphold the findings of versatility from the hyponym analysis.\n",
    "\n",
    "## Part-of-Speech interactions\n",
    "Is every Part-of-Speech subset of synsets a hyponym island unto itself?"
   ]
  },
  {
   "cell_type": "code",
   "execution_count": 54,
   "metadata": {},
   "outputs": [
    {
     "name": "stdout",
     "output_type": "stream",
     "text": [
      "Hyponym connections between parts of speech:\n",
      "n -> n: 75,850 times\n",
      "v -> v: 13,238 times\n"
     ]
    }
   ],
   "source": [
    "def pos_connection_viz(graph):\n",
    "    print('\\n'.join([f'{p1} -> {p2}: {ct:,} times' for (p1,p2),ct in pos_connections(graph).most_common()]))\n",
    "\n",
    "print('Hyponym connections between parts of speech:')\n",
    "pos_connection_viz(hypg)"
   ]
  },
  {
   "cell_type": "markdown",
   "metadata": {},
   "source": [
    "That's a resounding **yes**.\n",
    "\n",
    "We saw that the common meronym roots are all nouns - is it just an all-noun graph?\n",
    "\n",
    "What happens in some other relations?"
   ]
  },
  {
   "cell_type": "code",
   "execution_count": 55,
   "metadata": {},
   "outputs": [
    {
     "name": "stdout",
     "output_type": "stream",
     "text": [
      "Meronym connections between parts of speech:\n",
      "n -> n: 22,187 times\n"
     ]
    }
   ],
   "source": [
    "print('Meronym connections between parts of speech:')\n",
    "pos_connection_viz(merg)"
   ]
  },
  {
   "cell_type": "markdown",
   "metadata": {},
   "source": [
    "Yes.\n",
    "\n",
    "What happens in some other relations?"
   ]
  },
  {
   "cell_type": "code",
   "execution_count": 57,
   "metadata": {},
   "outputs": [
    {
     "name": "stdout",
     "output_type": "stream",
     "text": [
      "Attribute connections between parts of speech:\n",
      "a -> n: 639 times\n",
      "n -> a: 639 times\n"
     ]
    }
   ],
   "source": [
    "attg = graphify(lambda s: s.attributes())\n",
    "print('Attribute connections between parts of speech:')\n",
    "pos_connection_viz(attg)"
   ]
  },
  {
   "cell_type": "markdown",
   "metadata": {},
   "source": [
    "Interesting - the `attributes` graph appears to be a bipartite graph between nouns and adjectives. Possibly even containing only symmetric edges - let's see:"
   ]
  },
  {
   "cell_type": "code",
   "execution_count": 58,
   "metadata": {},
   "outputs": [
    {
     "data": {
      "text/plain": [
       "True"
      ]
     },
     "execution_count": 58,
     "metadata": {},
     "output_type": "execute_result"
    }
   ],
   "source": [
    "nx.is_bipartite(attg)"
   ]
  },
  {
   "cell_type": "code",
   "execution_count": 59,
   "metadata": {},
   "outputs": [
    {
     "data": {
      "text/plain": [
       "True"
      ]
     },
     "execution_count": 59,
     "metadata": {},
     "output_type": "execute_result"
    }
   ],
   "source": [
    "attg_e = attg.edges()\n",
    "all([(t,s) in attg_e for s,t in attg_e])"
   ]
  },
  {
   "cell_type": "markdown",
   "metadata": {},
   "source": [
    "That's a yes. How about the `causes` graph? And the `similar tos`?"
   ]
  },
  {
   "cell_type": "code",
   "execution_count": 60,
   "metadata": {
    "scrolled": true
   },
   "outputs": [
    {
     "name": "stdout",
     "output_type": "stream",
     "text": [
      "Causes connections between parts of speech:\n",
      "v -> v: 220 times\n"
     ]
    }
   ],
   "source": [
    "causg = graphify(lambda s: s.causes())\n",
    "print('Causes connections between parts of speech:')\n",
    "pos_connection_viz(causg)"
   ]
  },
  {
   "cell_type": "code",
   "execution_count": 61,
   "metadata": {},
   "outputs": [
    {
     "name": "stdout",
     "output_type": "stream",
     "text": [
      "Similar To connections between parts of speech:\n",
      "a -> s: 10,693 times\n",
      "s -> a: 10,693 times\n"
     ]
    }
   ],
   "source": [
    "simtog = graphify(lambda s: s.similar_tos())\n",
    "print('Similar To connections between parts of speech:')\n",
    "pos_connection_viz(simtog)"
   ]
  },
  {
   "cell_type": "markdown",
   "metadata": {},
   "source": [
    "Um, what in the what is an `s`? Let's collect a sample."
   ]
  },
  {
   "cell_type": "code",
   "execution_count": 69,
   "metadata": {
    "scrolled": false
   },
   "outputs": [
    {
     "data": {
      "text/plain": [
       "[(Synset('known.a.01'), Synset('best-known.s.01')),\n",
       " (Synset('down.a.01'), Synset('fallen.s.01')),\n",
       " (Synset('soft.a.03'), Synset('little.s.05')),\n",
       " (Synset('symphonic.s.02'), Synset('harmonious.a.01')),\n",
       " (Synset('cucumber-shaped.s.01'), Synset('prolate.a.01'))]"
      ]
     },
     "execution_count": 69,
     "metadata": {},
     "output_type": "execute_result"
    }
   ],
   "source": [
    "simtos = list(simtog.edges())\n",
    "rd.shuffle(simtos)\n",
    "simtos[:5]"
   ]
  },
  {
   "cell_type": "markdown",
   "metadata": {},
   "source": [
    "OK, turns out from [WordNet's documentation](https://wordnet.princeton.edu/man/wngloss.7WN.html) that these are *satellite adjectives*, which appear only in certain contexts. In any event, it seems like the `similar to` connection was designed to keep these connected to their more literal adjective sense correlates. Are **all** satellites connected thusly to the rest of the world?"
   ]
  },
  {
   "cell_type": "code",
   "execution_count": 71,
   "metadata": {},
   "outputs": [
    {
     "name": "stdout",
     "output_type": "stream",
     "text": [
      "Histogram for outgoing edge counts for all satellites in WordNet:\n",
      "[(1, 10693)]\n"
     ]
    }
   ],
   "source": [
    "satellites = [s for s in synsets if s.pos() == 's']\n",
    "print('Histogram for outgoing edge counts for all satellites in WordNet:')\n",
    "print(Counter([len(sat.similar_tos()) for sat in satellites]).most_common())"
   ]
  },
  {
   "cell_type": "markdown",
   "metadata": {},
   "source": [
    "Bingo.\n",
    "\n",
    "## Conclusion\n",
    "\n",
    "To conclude this exploratory survey, we saw:\n",
    "* That the lemma-sense mapping in WordNet is necessary to clean up a very messy English language;\n",
    "* That the large hyponym and meronym graphs are each irregular from a network prespective: disjoint subtrees don't share properties, even when controlling for size;\n",
    "* That some relations in WordNet function as intra-POS graphs, and others bridge between different parts-of-speech."
   ]
  }
 ],
 "metadata": {
  "anaconda-cloud": {},
  "kernelspec": {
   "display_name": "Python 3",
   "language": "python",
   "name": "python3"
  },
  "language_info": {
   "codemirror_mode": {
    "name": "ipython",
    "version": 3
   },
   "file_extension": ".py",
   "mimetype": "text/x-python",
   "name": "python",
   "nbconvert_exporter": "python",
   "pygments_lexer": "ipython3",
   "version": "3.6.1"
  }
 },
 "nbformat": 4,
 "nbformat_minor": 1
}
