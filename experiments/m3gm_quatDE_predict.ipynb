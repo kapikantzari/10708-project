{
  "nbformat": 4,
  "nbformat_minor": 0,
  "metadata": {
    "colab": {
      "name": "m3gm-quatDE-predict.ipynb",
      "provenance": [],
      "collapsed_sections": [],
      "machine_shape": "hm"
    },
    "kernelspec": {
      "name": "python3",
      "display_name": "Python 3"
    },
    "language_info": {
      "name": "python"
    }
  },
  "cells": [
    {
      "cell_type": "code",
      "execution_count": 1,
      "metadata": {
        "colab": {
          "base_uri": "https://localhost:8080/"
        },
        "id": "t55QciHBcoc8",
        "outputId": "7317a68f-0086-485e-852c-afda4c19fcf2"
      },
      "outputs": [
        {
          "output_type": "stream",
          "name": "stdout",
          "text": [
            "\n",
            "WARNING: apt does not have a stable CLI interface. Use with caution in scripts.\n",
            "\n",
            "debconf: unable to initialize frontend: Dialog\n",
            "debconf: (No usable dialog-like program is installed, so the dialog based frontend cannot be used. at /usr/share/perl5/Debconf/FrontEnd/Dialog.pm line 76, <> line 1.)\n",
            "debconf: falling back to frontend: Readline\n",
            "debconf: unable to initialize frontend: Readline\n",
            "debconf: (This frontend requires a controlling tty.)\n",
            "debconf: falling back to frontend: Teletype\n",
            "dpkg-preconfigure: unable to re-open stdin: \n",
            "/usr/bin/xdg-open: 851: /usr/bin/xdg-open: www-browser: not found\n",
            "/usr/bin/xdg-open: 851: /usr/bin/xdg-open: links2: not found\n",
            "/usr/bin/xdg-open: 851: /usr/bin/xdg-open: elinks: not found\n",
            "/usr/bin/xdg-open: 851: /usr/bin/xdg-open: links: not found\n",
            "/usr/bin/xdg-open: 851: /usr/bin/xdg-open: lynx: not found\n",
            "/usr/bin/xdg-open: 851: /usr/bin/xdg-open: w3m: not found\n",
            "xdg-open: no method available for opening 'https://accounts.google.com/o/oauth2/auth?client_id=564921029129.apps.googleusercontent.com&redirect_uri=https%3A%2F%2Fgd-ocaml-auth.appspot.com%2Foauth2callback&scope=https%3A%2F%2Fwww.googleapis.com%2Fauth%2Fdrive&response_type=code&access_type=offline&approval_prompt=force&state=CRnFGDcBE5MsNEOG6W0KKpkeOliTVmnhCUFjX49SHPc'\n",
            "/bin/sh: 1: firefox: not found\n",
            "/bin/sh: 1: google-chrome: not found\n",
            "/bin/sh: 1: chromium-browser: not found\n",
            "/bin/sh: 1: open: not found\n",
            "Cannot retrieve auth tokens.\n",
            "Failure(\"Error opening URL:https://accounts.google.com/o/oauth2/auth?client_id=564921029129.apps.googleusercontent.com&redirect_uri=https%3A%2F%2Fgd-ocaml-auth.appspot.com%2Foauth2callback&scope=https%3A%2F%2Fwww.googleapis.com%2Fauth%2Fdrive&response_type=code&access_type=offline&approval_prompt=force&state=CRnFGDcBE5MsNEOG6W0KKpkeOliTVmnhCUFjX49SHPc\")\n"
          ]
        }
      ],
      "source": [
        "!sudo add-apt-repository -y ppa:alessandro-strada/ppa 2>&1 > /dev/null\n",
        "!sudo apt-get update -qq 2>&1 > /dev/null\n",
        "!sudo apt -y install -qq google-drive-ocamlfuse 2>&1 > /dev/null\n",
        "!google-drive-ocamlfuse"
      ]
    },
    {
      "cell_type": "code",
      "source": [
        "!sudo apt-get install -qq w3m # to act as web browser \n",
        "!xdg-settings set default-web-browser w3m.desktop # to set default browser\n",
        "%cd /content\n",
        "!mkdir drive\n",
        "%cd drive\n",
        "!mkdir MyDrive\n",
        "%cd ..\n",
        "%cd ..\n",
        "!google-drive-ocamlfuse /content/drive/MyDrive"
      ],
      "metadata": {
        "colab": {
          "base_uri": "https://localhost:8080/"
        },
        "id": "8xWM0c51a_aY",
        "outputId": "2025caf7-5807-412a-f011-8410338de407"
      },
      "execution_count": 2,
      "outputs": [
        {
          "output_type": "stream",
          "name": "stdout",
          "text": [
            "debconf: unable to initialize frontend: Dialog\n",
            "debconf: (No usable dialog-like program is installed, so the dialog based frontend cannot be used. at /usr/share/perl5/Debconf/FrontEnd/Dialog.pm line 76, <> line 2.)\n",
            "debconf: falling back to frontend: Readline\n",
            "debconf: unable to initialize frontend: Readline\n",
            "debconf: (This frontend requires a controlling tty.)\n",
            "debconf: falling back to frontend: Teletype\n",
            "dpkg-preconfigure: unable to re-open stdin: \n",
            "Selecting previously unselected package libgpm2:amd64.\n",
            "(Reading database ... 155207 files and directories currently installed.)\n",
            "Preparing to unpack .../libgpm2_1.20.7-5_amd64.deb ...\n",
            "Unpacking libgpm2:amd64 (1.20.7-5) ...\n",
            "Selecting previously unselected package w3m.\n",
            "Preparing to unpack .../w3m_0.5.3-36build1_amd64.deb ...\n",
            "Unpacking w3m (0.5.3-36build1) ...\n",
            "Setting up libgpm2:amd64 (1.20.7-5) ...\n",
            "Setting up w3m (0.5.3-36build1) ...\n",
            "Processing triggers for mime-support (3.60ubuntu1) ...\n",
            "Processing triggers for libc-bin (2.27-3ubuntu1.3) ...\n",
            "/sbin/ldconfig.real: /usr/local/lib/python3.7/dist-packages/ideep4py/lib/libmkldnn.so.0 is not a symbolic link\n",
            "\n",
            "Processing triggers for man-db (2.8.3-2ubuntu0.1) ...\n",
            "/content\n",
            "/content/drive\n",
            "/content\n",
            "/\n",
            "Access token retrieved correctly.\n"
          ]
        }
      ]
    },
    {
      "cell_type": "markdown",
      "source": [
        "## Dependencies"
      ],
      "metadata": {
        "id": "m8OszZvqeCLD"
      }
    },
    {
      "cell_type": "code",
      "source": [
        "!pip install dynet\n",
        "!pip show dynet"
      ],
      "metadata": {
        "colab": {
          "base_uri": "https://localhost:8080/"
        },
        "id": "WLYpgSirdg3x",
        "outputId": "52070bf6-b2cf-416b-916b-5240a8ac7839"
      },
      "execution_count": 3,
      "outputs": [
        {
          "output_type": "stream",
          "name": "stdout",
          "text": [
            "Collecting dynet\n",
            "  Downloading dyNET-2.1.2-cp37-cp37m-manylinux1_x86_64.whl (4.4 MB)\n",
            "\u001b[K     |████████████████████████████████| 4.4 MB 14.7 MB/s \n",
            "\u001b[?25hRequirement already satisfied: cython in /usr/local/lib/python3.7/dist-packages (from dynet) (0.29.28)\n",
            "Requirement already satisfied: numpy in /usr/local/lib/python3.7/dist-packages (from dynet) (1.21.6)\n",
            "Installing collected packages: dynet\n",
            "Successfully installed dynet-2.1.2\n",
            "Name: dyNET\n",
            "Version: 2.1.2\n",
            "Summary: The Dynamic Neural Network Toolkit\n",
            "Home-page: https://github.com/clab/dynet\n",
            "Author: Graham Neubig\n",
            "Author-email: dynet-users@googlegroups.com\n",
            "License: Apache 2.0\n",
            "Location: /usr/local/lib/python3.7/dist-packages\n",
            "Requires: cython, numpy\n",
            "Required-by: \n"
          ]
        }
      ]
    },
    {
      "cell_type": "code",
      "source": [
        "%cd /content/drive/MyDrive/10708/m3gm-master\n",
        "!python create_wn18_data.py --base-dir /content/drive/MyDrive/10708/datasets_knowledge_embedding-master/WN18RR/text"
      ],
      "metadata": {
        "colab": {
          "base_uri": "https://localhost:8080/"
        },
        "id": "OV7pJkzZeF5L",
        "outputId": "b7bd6172-4b14-472b-fa6d-84e3a00b6747"
      },
      "execution_count": 4,
      "outputs": [
        {
          "output_type": "stream",
          "name": "stdout",
          "text": [
            "/content/drive/MyDrive/10708/m3gm-master\n",
            "read 86834 instances with 11 relations from /content/drive/MyDrive/10708/datasets_knowledge_embedding-master/WN18RR/text/train.txt, now have 40714 synsets\n",
            "read 3033 instances with 11 relations from /content/drive/MyDrive/10708/datasets_knowledge_embedding-master/WN18RR/text/valid.txt, now have 40919 synsets\n",
            "read 3133 instances with 11 relations from /content/drive/MyDrive/10708/datasets_knowledge_embedding-master/WN18RR/text/test.txt, now have 41105 synsets\n",
            "all relations:  {'hypernym', 'instance_hypernym', 'member_of_domain_usage', 'synset_domain_topic_of', 'derivationally_related_form', 'similar_to', 'has_part', 'member_of_domain_region', 'verb_group', 'also_see', 'member_meronym'}\n",
            "node count:  41105\n",
            "first sorted synsets:  ['land_reform.n.01', 'reform.n.01', 'cover.v.01', 'covering.n.02', 'botany.n.02', 'botanize.v.01', 'kamet.n.01', 'mountain_peak.n.01', 'question.n.01', 'ask.v.01']\n",
            "last sorted synsets:  ['fire.v.06', 'parade.n.03', 'grey_matter.n.01', 'clinton.n.02', 'hamstring.v.01', 'holly-leaved_cherry.n.01', 'warwick.n.01', 'iconoclast.n.01', 'electrocution.n.01', 'accentor.n.01']\n",
            "creating matrices for relations in train set\n",
            "created matrix for relation hypernym\n",
            "sample: rattle.n.03->['tail.n.01']\n",
            "created matrix for relation instance_hypernym\n",
            "sample: carrel.n.01->['biologist.n.01', 'surgeon.n.01']\n",
            "created matrix for relation member_of_domain_usage\n",
            "sample: blend.n.02->['brunch.n.01', 'motel.n.01']\n",
            "created matrix for relation synset_domain_topic_of\n",
            "sample: lustrum.n.02->['antiquity.n.01']\n",
            "created matrix for relation derivationally_related_form\n",
            "sample: cheat.v.03->['deceiver.n.01', 'swindler.n.01', 'cheat.n.05']\n",
            "created matrix for relation similar_to\n",
            "sample: advantageous.a.01->['discriminatory.s.04']\n",
            "created matrix for relation has_part\n",
            "sample: extension.n.04->['extension_course.n.01']\n",
            "created matrix for relation member_of_domain_region\n",
            "sample: sri_lanka.n.01->['hinduism.n.01', 'liberation_tigers_of_tamil_eelam.n.01']\n",
            "created matrix for relation verb_group\n",
            "sample: homogenize.v.03->['homogenize.v.01']\n",
            "created matrix for relation also_see\n",
            "sample: sweep.v.02->['breeze_through.v.01']\n",
            "created matrix for relation member_meronym\n",
            "sample: cinnamomum.n.01->['cinnamon.n.02', 'cassia.n.03']\n",
            "creating matrices for relations in dev set\n",
            "created matrix for relation hypernym\n",
            "sample: citron.n.02->['citrus.n.02']\n",
            "created matrix for relation instance_hypernym\n",
            "sample: ledbetter.n.01->['guitarist.n.01']\n",
            "created matrix for relation member_of_domain_usage\n",
            "sample: trademark.n.02->['drambuie.n.01', 'rolaids.n.01']\n",
            "created matrix for relation synset_domain_topic_of\n",
            "sample: venation.n.02->['zoology.n.02']\n",
            "created matrix for relation derivationally_related_form\n",
            "sample: ridicule.v.01->['satirist.n.01']\n",
            "created matrix for relation similar_to\n",
            "sample: senior.a.01->['major.s.08']\n",
            "created matrix for relation has_part\n",
            "sample: building.n.01->['court.n.10']\n",
            "created matrix for relation member_of_domain_region\n",
            "sample: vietnam.n.01->['vietnam_war.n.01', 'dien_bien_phu.n.01']\n",
            "created matrix for relation verb_group\n",
            "sample: wring.v.02->['contort.v.01']\n",
            "created matrix for relation also_see\n",
            "sample: stand.v.01->['arise.v.03']\n",
            "created matrix for relation member_meronym\n",
            "sample: aconitum.n.01->['aconite.n.01']\n",
            "creating matrices for relations in test set\n",
            "created matrix for relation hypernym\n",
            "sample: salad_green.n.01->['greens.n.01']\n",
            "created matrix for relation instance_hypernym\n",
            "sample: dublin.n.01->['national_capital.n.01']\n",
            "created matrix for relation member_of_domain_usage\n",
            "sample: slang.n.02->['skinful.n.01']\n",
            "created matrix for relation synset_domain_topic_of\n",
            "sample: drive.v.17->['golf.n.01']\n",
            "created matrix for relation derivationally_related_form\n",
            "sample: swaggerer.n.01->['tittup.v.01']\n",
            "created matrix for relation similar_to\n",
            "sample: colored.a.01->['cream-colored.s.01']\n",
            "created matrix for relation has_part\n",
            "sample: minnesota.n.01->['twin_cities.n.01']\n",
            "created matrix for relation member_of_domain_region\n",
            "sample: israel.n.01->['al-fatah.n.01', '15_may_organization.n.01']\n",
            "created matrix for relation verb_group\n",
            "sample: kill.v.14->['kill.v.13']\n",
            "created matrix for relation also_see\n",
            "sample: earthly.a.01->['mortal.a.01']\n",
            "created matrix for relation member_meronym\n",
            "sample: syngnathidae.n.01->['syngnathus.n.01']\n",
            "saving dataset\n",
            "done!\n"
          ]
        }
      ]
    },
    {
      "cell_type": "code",
      "source": [
        "import nltk\n",
        "nltk.download('wordnet')"
      ],
      "metadata": {
        "colab": {
          "base_uri": "https://localhost:8080/"
        },
        "id": "ttBDEm1snctY",
        "outputId": "8d5226ee-3dca-4d39-e62b-025ebd27f294"
      },
      "execution_count": null,
      "outputs": [
        {
          "output_type": "stream",
          "name": "stdout",
          "text": [
            "[nltk_data] Downloading package wordnet to /root/nltk_data...\n",
            "[nltk_data]   Unzipping corpora/wordnet.zip.\n"
          ]
        },
        {
          "output_type": "execute_result",
          "data": {
            "text/plain": [
              "True"
            ]
          },
          "metadata": {},
          "execution_count": 6
        }
      ]
    },
    {
      "cell_type": "code",
      "source": [
        "%cd /content/drive/MyDrive/10708/m3gm-master/data\n",
        "!python embed_from_words.py wiki-news-300d-1M.vec ft-embs-all-lower.vec"
      ],
      "metadata": {
        "colab": {
          "base_uri": "https://localhost:8080/"
        },
        "id": "Gi141-4nh4c3",
        "outputId": "16447e69-ce33-4ae3-a012-0eead1a476a8"
      },
      "execution_count": null,
      "outputs": [
        {
          "output_type": "stream",
          "name": "stdout",
          "text": [
            "2022-03-13 19:20:50.184081\tread 117659 synsets\n",
            "2022-03-13 19:20:50.184156\tpreparing target word dataset\n",
            "100% 117659/117659 [00:00<00:00, 483892.35it/s]\n",
            "2022-03-13 19:20:50.429026\treading input file\n",
            "tcmalloc: large alloc 2259091456 bytes == 0x5564e0408000 @  0x7f8aee4e41e7 0x5564db584518 0x5564db54ed17 0x5564db6ce1f5 0x5564db6688f8 0x5564db5525d2 0x5564db63197e 0x5564db552229 0x5564db644b3d 0x5564db5c6458 0x5564db5c102f 0x5564db553aba 0x5564db5c62c0 0x5564db5c102f 0x5564db553aba 0x5564db5c62c0 0x5564db5c102f 0x5564db553aba 0x5564db5c62c0 0x5564db5c102f 0x5564db5c0d43 0x5564db68b302 0x5564db68b67d 0x5564db68b526 0x5564db6631d3 0x5564db662e7c 0x7f8aed2cec87 0x5564db662d5a\n",
            "tcmalloc: large alloc 2259091456 bytes == 0x556566e78000 @  0x7f8aee4e41e7 0x5564db584518 0x5564db599b6c 0x5564db627b5b 0x5564db552229 0x5564db552120 0x5564db5c6679 0x5564db5c102f 0x5564db553aba 0x5564db5c62c0 0x5564db5c102f 0x5564db553aba 0x5564db5c62c0 0x5564db5c102f 0x5564db553aba 0x5564db5c62c0 0x5564db5c102f 0x5564db5c0d43 0x5564db68b302 0x5564db68b67d 0x5564db68b526 0x5564db6631d3 0x5564db662e7c 0x7f8aed2cec87 0x5564db662d5a\n",
            "tcmalloc: large alloc 4518182912 bytes == 0x5565ed8e8000 @  0x7f8aee4e41e7 0x5564db584518 0x5564db59b9e6 0x5564db59b6c8 0x5564db5a8bdf 0x5564db59a1eb 0x5564db627b5b 0x5564db552229 0x5564db552120 0x5564db5c6679 0x5564db5c102f 0x5564db553aba 0x5564db5c62c0 0x5564db5c102f 0x5564db553aba 0x5564db5c62c0 0x5564db5c102f 0x5564db553aba 0x5564db5c62c0 0x5564db5c102f 0x5564db5c0d43 0x5564db68b302 0x5564db68b67d 0x5564db68b526 0x5564db6631d3 0x5564db662e7c 0x7f8aed2cec87 0x5564db662d5a\n",
            "tcmalloc: large alloc 9036357632 bytes == 0x5566fb5c8000 @  0x7f8aee4e41e7 0x5564db584518 0x5564db59b945 0x5564db59b6c8 0x5564db5a8bdf 0x5564db59a1eb 0x5564db627b5b 0x5564db552229 0x5564db552120 0x5564db5c6679 0x5564db5c102f 0x5564db553aba 0x5564db5c62c0 0x5564db5c102f 0x5564db553aba 0x5564db5c62c0 0x5564db5c102f 0x5564db553aba 0x5564db5c62c0 0x5564db5c102f 0x5564db5c0d43 0x5564db68b302 0x5564db68b67d 0x5564db68b526 0x5564db6631d3 0x5564db662e7c 0x7f8aed2cec87 0x5564db662d5a\n",
            "^C\n"
          ]
        }
      ]
    },
    {
      "cell_type": "code",
      "source": [
        "!python predict_wn18.py --input data/sparse_wn18_matrices.pkl --emb-size 300 --model models/pret_quatDE-ep-01 --model-only-init --assoc-mode quatDE --eval-dev --no-assoc-bp --epochs 3 --neg-samp 10 --regularize 0.01 --rand-all --skip-symmetrics --model-out models/from_pret_quatDE-3eps --rerank-out from_pret_quatDE-3eps.txt"
      ],
      "metadata": {
        "colab": {
          "base_uri": "https://localhost:8080/"
        },
        "id": "O10u5jIfxmjN",
        "outputId": "4f31dfcd-de54-409d-cb44-e4911800dc5f"
      },
      "execution_count": null,
      "outputs": [
        {
          "output_type": "stream",
          "name": "stdout",
          "text": [
            "[dynet] random seed: 812538882\n",
            "[dynet] allocating memory: 512MB\n",
            "[dynet] memory allocation done.\n",
            "2022-04-29 19:32:51.782907\tgraphs file = data/sparse_wn18_matrices.pkl\n",
            "2022-04-29 19:32:51.782943\tembeddings file = of size 300\n",
            "2022-04-29 19:32:51.782950\tassociation mode = quatDE\n",
            "2022-04-29 19:32:51.782956\treranker output file = from_pret_quatDE-3eps.txt\n",
            "2022-04-29 19:32:51.782963\tmodel file = models/pret_quatDE-ep-01, ergm model file = None\n",
            "2022-04-29 19:32:51.782969\tassociation model not backpropped into\n",
            "2022-04-29 19:32:51.782975\tepochs = 3\n",
            "2022-04-29 19:32:51.782981\tneg-samp = 10\n",
            "2022-04-29 19:32:51.782990\tregularizer labmda = 0.01\n",
            "2022-04-29 19:32:51.782996\tmodel output file = models/from_pret_quatDE-3eps\n",
            "2022-04-29 19:32:51.783002\ttraining ERGM without symmetric relation iterations\n",
            "2022-04-29 19:32:51.783007\trerank list length = 100\n",
            "2022-04-29 19:32:51.783013\tusing symmetricity rule override for testing\n",
            "2022-04-29 19:32:51.783018\tevaluating dev set\n",
            "2022-04-29 19:32:51.814988\tloading embeddings...\n",
            "2022-04-29 19:33:08.326566\tfinished initialization for association model.\n",
            "2022-04-29 19:33:08.326806\tcomputing ERGM features...\n",
            "2022-04-29 19:33:08.326853\tpopulated edge cache\n",
            "2022-04-29 19:33:08.576916\tpopulated mutual edge cache\n",
            "2022-04-29 19:33:11.148084\textracted directed triangle features\n",
            "2022-04-29 19:33:17.068906\tpopulated transitivity cache\n",
            "2022-04-29 19:33:17.108576\tpopulated 1r-star cache\n",
            "2022-04-29 19:33:17.214761\tpopulated 2r-star cache\n",
            "2022-04-29 19:33:17.337920\tpopulated 3r-star cache\n",
            "2022-04-29 19:33:17.342333\tinitialized features from cache\n",
            "2022-04-29 19:33:17.342414\tfinished! computed 3432 features\n",
            "2022-04-29 19:33:17.342778\t947 non-zero features\n",
            "The dy.parameter(...) call is now DEPRECATED.\n",
            "        There is no longer need to explicitly add parameters to the computation graph.\n",
            "        Any used parameter will be added automatically.\n",
            "2022-04-29 19:33:17.343638\tfinished initialization. initial ERGM score = -485.99798583984375\n",
            "2022-04-29 19:33:17.343946\tstarting training phase, writing to pred-train-log-2022-04-29_19:32:51.782893.txt\n",
            "2022-04-29 19:33:18.640805\tcaching original graph features\n",
            "100% 287735/287735 [6:29:28<00:00, 12.31it/s]\n",
            "100% 41105/41105 [01:27<00:00, 468.08it/s]\n",
            "100% 41105/41105 [00:20<00:00, 2034.75it/s]\n",
            "100% 41105/41105 [00:14<00:00, 2853.48it/s]\n",
            "100% 41105/41105 [00:20<00:00, 2042.56it/s]\n",
            "100% 41105/41105 [01:04<00:00, 638.76it/s] \n",
            "100% 41105/41105 [00:13<00:00, 3087.81it/s]\n",
            "100% 41105/41105 [00:24<00:00, 1675.76it/s]\n",
            "100% 41105/41105 [00:15<00:00, 2595.46it/s]\n",
            "100% 41105/41105 [00:15<00:00, 2725.55it/s]\n",
            "100% 41105/41105 [00:15<00:00, 2710.92it/s]\n",
            "100% 41105/41105 [00:29<00:00, 1383.20it/s]\n",
            "number of instances: 6068\n",
            "total misses: 3926\n",
            "overrides: 2330\n",
            "average rank: 13320.938365194463\n",
            "mrr: 0.3525\n",
            "mq: 0.6759211180129802\n",
            "h@100: 0.35300\n",
            "h@10: 0.35234\n",
            "h@1: 0.35234\n",
            "2022-04-30 02:09:22.114565\tcaching original graph features\n",
            " 18% 52474/287735 [1:11:03<3:52:02, 16.90it/s]"
          ]
        }
      ]
    },
    {
      "cell_type": "code",
      "source": [
        ""
      ],
      "metadata": {
        "id": "5_Fk1wao3qSO"
      },
      "execution_count": null,
      "outputs": []
    }
  ]
}