{
  "nbformat": 4,
  "nbformat_minor": 0,
  "metadata": {
    "colab": {
      "name": "m3gm-transE-predict.ipynb",
      "provenance": [],
      "collapsed_sections": [],
      "machine_shape": "hm"
    },
    "kernelspec": {
      "name": "python3",
      "display_name": "Python 3"
    },
    "language_info": {
      "name": "python"
    }
  },
  "cells": [
    {
      "cell_type": "code",
      "execution_count": 1,
      "metadata": {
        "colab": {
          "base_uri": "https://localhost:8080/"
        },
        "id": "t55QciHBcoc8",
        "outputId": "b3647e01-d120-4e8b-f40b-97c8dd95b4cd"
      },
      "outputs": [
        {
          "output_type": "stream",
          "name": "stdout",
          "text": [
            "W: GPG error: https://developer.download.nvidia.com/compute/cuda/repos/ubuntu1804/x86_64  InRelease: The following signatures couldn't be verified because the public key is not available: NO_PUBKEY A4B469963BF863CC\n",
            "E: The repository 'https://developer.download.nvidia.com/compute/cuda/repos/ubuntu1804/x86_64  InRelease' is no longer signed.\n",
            "W: GPG error: https://developer.download.nvidia.com/compute/cuda/repos/ubuntu1804/x86_64  InRelease: The following signatures couldn't be verified because the public key is not available: NO_PUBKEY A4B469963BF863CC\n",
            "E: The repository 'https://developer.download.nvidia.com/compute/cuda/repos/ubuntu1804/x86_64  InRelease' is no longer signed.\n",
            "\n",
            "WARNING: apt does not have a stable CLI interface. Use with caution in scripts.\n",
            "\n",
            "debconf: unable to initialize frontend: Dialog\n",
            "debconf: (No usable dialog-like program is installed, so the dialog based frontend cannot be used. at /usr/share/perl5/Debconf/FrontEnd/Dialog.pm line 76, <> line 1.)\n",
            "debconf: falling back to frontend: Readline\n",
            "debconf: unable to initialize frontend: Readline\n",
            "debconf: (This frontend requires a controlling tty.)\n",
            "debconf: falling back to frontend: Teletype\n",
            "dpkg-preconfigure: unable to re-open stdin: \n",
            "/usr/bin/xdg-open: 851: /usr/bin/xdg-open: www-browser: not found\n",
            "/usr/bin/xdg-open: 851: /usr/bin/xdg-open: links2: not found\n",
            "/usr/bin/xdg-open: 851: /usr/bin/xdg-open: elinks: not found\n",
            "/usr/bin/xdg-open: 851: /usr/bin/xdg-open: links: not found\n",
            "/usr/bin/xdg-open: 851: /usr/bin/xdg-open: lynx: not found\n",
            "/usr/bin/xdg-open: 851: /usr/bin/xdg-open: w3m: not found\n",
            "xdg-open: no method available for opening 'https://accounts.google.com/o/oauth2/auth?client_id=564921029129.apps.googleusercontent.com&redirect_uri=https%3A%2F%2Fgd-ocaml-auth.appspot.com%2Foauth2callback&scope=https%3A%2F%2Fwww.googleapis.com%2Fauth%2Fdrive&response_type=code&access_type=offline&approval_prompt=force&state=NeR%2FuBJ6PDYt5fbOaukDmtkNn-uvZAYR6AmjmwZivwg'\n",
            "/bin/sh: 1: firefox: not found\n",
            "/bin/sh: 1: google-chrome: not found\n",
            "/bin/sh: 1: chromium-browser: not found\n",
            "/bin/sh: 1: open: not found\n",
            "Cannot retrieve auth tokens.\n",
            "Failure(\"Error opening URL:https://accounts.google.com/o/oauth2/auth?client_id=564921029129.apps.googleusercontent.com&redirect_uri=https%3A%2F%2Fgd-ocaml-auth.appspot.com%2Foauth2callback&scope=https%3A%2F%2Fwww.googleapis.com%2Fauth%2Fdrive&response_type=code&access_type=offline&approval_prompt=force&state=NeR%2FuBJ6PDYt5fbOaukDmtkNn-uvZAYR6AmjmwZivwg\")\n"
          ]
        }
      ],
      "source": [
        "!sudo add-apt-repository -y ppa:alessandro-strada/ppa 2>&1 > /dev/null\n",
        "!sudo apt-get update -qq 2>&1 > /dev/null\n",
        "!sudo apt -y install -qq google-drive-ocamlfuse 2>&1 > /dev/null\n",
        "!google-drive-ocamlfuse"
      ]
    },
    {
      "cell_type": "code",
      "source": [
        "!sudo apt-get install -qq w3m # to act as web browser \n",
        "!xdg-settings set default-web-browser w3m.desktop # to set default browser\n",
        "%cd /content\n",
        "!mkdir drive\n",
        "%cd drive\n",
        "!mkdir MyDrive\n",
        "%cd ..\n",
        "%cd ..\n",
        "!google-drive-ocamlfuse /content/drive/MyDrive"
      ],
      "metadata": {
        "colab": {
          "base_uri": "https://localhost:8080/"
        },
        "id": "8xWM0c51a_aY",
        "outputId": "e5d8129e-1978-42c7-8390-7b8968402d69"
      },
      "execution_count": 2,
      "outputs": [
        {
          "output_type": "stream",
          "name": "stdout",
          "text": [
            "debconf: unable to initialize frontend: Dialog\n",
            "debconf: (No usable dialog-like program is installed, so the dialog based frontend cannot be used. at /usr/share/perl5/Debconf/FrontEnd/Dialog.pm line 76, <> line 2.)\n",
            "debconf: falling back to frontend: Readline\n",
            "debconf: unable to initialize frontend: Readline\n",
            "debconf: (This frontend requires a controlling tty.)\n",
            "debconf: falling back to frontend: Teletype\n",
            "dpkg-preconfigure: unable to re-open stdin: \n",
            "Selecting previously unselected package libgpm2:amd64.\n",
            "(Reading database ... \r(Reading database ... 5%\r(Reading database ... 10%\r(Reading database ... 15%\r(Reading database ... 20%\r(Reading database ... 25%\r(Reading database ... 30%\r(Reading database ... 35%\r(Reading database ... 40%\r(Reading database ... 45%\r(Reading database ... 50%\r(Reading database ... 55%\r(Reading database ... 60%\r(Reading database ... 65%\r(Reading database ... 70%\r(Reading database ... 75%\r(Reading database ... 80%\r(Reading database ... 85%\r(Reading database ... 90%\r(Reading database ... 95%\r(Reading database ... 100%\r(Reading database ... 155519 files and directories currently installed.)\n",
            "Preparing to unpack .../libgpm2_1.20.7-5_amd64.deb ...\n",
            "Unpacking libgpm2:amd64 (1.20.7-5) ...\n",
            "Selecting previously unselected package w3m.\n",
            "Preparing to unpack .../w3m_0.5.3-36build1_amd64.deb ...\n",
            "Unpacking w3m (0.5.3-36build1) ...\n",
            "Setting up libgpm2:amd64 (1.20.7-5) ...\n",
            "Setting up w3m (0.5.3-36build1) ...\n",
            "Processing triggers for mime-support (3.60ubuntu1) ...\n",
            "Processing triggers for libc-bin (2.27-3ubuntu1.3) ...\n",
            "/sbin/ldconfig.real: /usr/local/lib/python3.7/dist-packages/ideep4py/lib/libmkldnn.so.0 is not a symbolic link\n",
            "\n",
            "Processing triggers for man-db (2.8.3-2ubuntu0.1) ...\n",
            "/content\n",
            "/content/drive\n",
            "/content\n",
            "/\n",
            "Access token retrieved correctly.\n"
          ]
        }
      ]
    },
    {
      "cell_type": "markdown",
      "source": [
        "## Dependencies"
      ],
      "metadata": {
        "id": "m8OszZvqeCLD"
      }
    },
    {
      "cell_type": "code",
      "source": [
        "!pip install dynet\n",
        "!pip show dynet"
      ],
      "metadata": {
        "colab": {
          "base_uri": "https://localhost:8080/"
        },
        "id": "WLYpgSirdg3x",
        "outputId": "0b0bdf59-d12d-403c-a28d-2598952c6585"
      },
      "execution_count": 3,
      "outputs": [
        {
          "output_type": "stream",
          "name": "stdout",
          "text": [
            "Collecting dynet\n",
            "  Downloading dyNET-2.1.2-cp37-cp37m-manylinux1_x86_64.whl (4.4 MB)\n",
            "\u001b[K     |████████████████████████████████| 4.4 MB 4.9 MB/s \n",
            "\u001b[?25hRequirement already satisfied: numpy in /usr/local/lib/python3.7/dist-packages (from dynet) (1.21.6)\n",
            "Requirement already satisfied: cython in /usr/local/lib/python3.7/dist-packages (from dynet) (0.29.28)\n",
            "Installing collected packages: dynet\n",
            "Successfully installed dynet-2.1.2\n",
            "Name: dyNET\n",
            "Version: 2.1.2\n",
            "Summary: The Dynamic Neural Network Toolkit\n",
            "Home-page: https://github.com/clab/dynet\n",
            "Author: Graham Neubig\n",
            "Author-email: dynet-users@googlegroups.com\n",
            "License: Apache 2.0\n",
            "Location: /usr/local/lib/python3.7/dist-packages\n",
            "Requires: numpy, cython\n",
            "Required-by: \n"
          ]
        }
      ]
    },
    {
      "cell_type": "code",
      "source": [
        "%cd /content/drive/MyDrive/10708/m3gm-master\n",
        "!python create_wn18_data.py --base-dir /content/drive/MyDrive/10708/datasets_knowledge_embedding-master/WN18RR/text"
      ],
      "metadata": {
        "colab": {
          "base_uri": "https://localhost:8080/"
        },
        "id": "OV7pJkzZeF5L",
        "outputId": "754f5ed2-bc02-40f6-9120-5bfc7bb89c7b"
      },
      "execution_count": 4,
      "outputs": [
        {
          "output_type": "stream",
          "name": "stdout",
          "text": [
            "/content/drive/MyDrive/10708/m3gm-master\n",
            "read 86834 instances with 11 relations from /content/drive/MyDrive/10708/datasets_knowledge_embedding-master/WN18RR/text/train.txt, now have 40714 synsets\n",
            "read 3033 instances with 11 relations from /content/drive/MyDrive/10708/datasets_knowledge_embedding-master/WN18RR/text/valid.txt, now have 40919 synsets\n",
            "read 3133 instances with 11 relations from /content/drive/MyDrive/10708/datasets_knowledge_embedding-master/WN18RR/text/test.txt, now have 41105 synsets\n",
            "all relations:  {'instance_hypernym', 'derivationally_related_form', 'hypernym', 'has_part', 'member_of_domain_usage', 'verb_group', 'member_of_domain_region', 'similar_to', 'also_see', 'synset_domain_topic_of', 'member_meronym'}\n",
            "node count:  41105\n",
            "first sorted synsets:  ['land_reform.n.01', 'reform.n.01', 'cover.v.01', 'covering.n.02', 'botany.n.02', 'botanize.v.01', 'kamet.n.01', 'mountain_peak.n.01', 'question.n.01', 'ask.v.01']\n",
            "last sorted synsets:  ['fire.v.06', 'parade.n.03', 'grey_matter.n.01', 'clinton.n.02', 'hamstring.v.01', 'holly-leaved_cherry.n.01', 'warwick.n.01', 'iconoclast.n.01', 'electrocution.n.01', 'accentor.n.01']\n",
            "creating matrices for relations in train set\n",
            "created matrix for relation instance_hypernym\n",
            "sample: jimenez_de_cisneros.n.01->['grand_inquisitor.n.01', 'archpriest.n.01']\n",
            "created matrix for relation derivationally_related_form\n",
            "sample: biblical.a.02->['bible.n.01']\n",
            "created matrix for relation hypernym\n",
            "sample: potato.n.01->['starches.n.01', 'solanaceous_vegetable.n.01', 'root_vegetable.n.01']\n",
            "created matrix for relation has_part\n",
            "sample: spacecraft.n.01->['cabin.n.03', 'heat_shield.n.01', 'inertial_guidance_system.n.01']\n",
            "created matrix for relation member_of_domain_usage\n",
            "sample: acronym.n.01->['nimby.n.01', 'snafu.n.01', 'weakly_interacting_massive_particle.n.01']\n",
            "created matrix for relation verb_group\n",
            "sample: build_up.v.05->['develop.v.12', 'develop.v.13', 'modernize.v.02']\n",
            "created matrix for relation member_of_domain_region\n",
            "sample: rwanda.n.01->['army_for_the_liberation_of_rwanda.n.01']\n",
            "created matrix for relation similar_to\n",
            "sample: snow-white.s.01->['achromatic.a.01']\n",
            "created matrix for relation also_see\n",
            "sample: adventurous.a.01->['brave.a.01', 'bold.a.01']\n",
            "created matrix for relation synset_domain_topic_of\n",
            "sample: jurist.n.01->['law.n.01']\n",
            "created matrix for relation member_meronym\n",
            "sample: leptodactylidae.n.01->['leptodactylid_frog.n.01', 'hylactophryne.n.01', 'leptodactylus.n.01', 'eleutherodactylus.n.01']\n",
            "creating matrices for relations in dev set\n",
            "created matrix for relation instance_hypernym\n",
            "sample: gomorrah.n.01->['city.n.01']\n",
            "created matrix for relation derivationally_related_form\n",
            "sample: organize.v.04->['administration.n.02']\n",
            "created matrix for relation hypernym\n",
            "sample: blennioidea.n.01->['animal_order.n.01']\n",
            "created matrix for relation has_part\n",
            "sample: south_america.n.01->['south_american_country.n.01']\n",
            "created matrix for relation member_of_domain_usage\n",
            "sample: archaism.n.01->['negress.n.01']\n",
            "created matrix for relation verb_group\n",
            "sample: reform.v.01->['reform.v.05']\n",
            "created matrix for relation member_of_domain_region\n",
            "sample: spain.n.01->['first_of_october_antifascist_resistance_group.n.01']\n",
            "created matrix for relation similar_to\n",
            "sample: hot.a.03->['sensual.s.02']\n",
            "created matrix for relation also_see\n",
            "sample: change_by_reversal.v.01->['switch_off.v.01']\n",
            "created matrix for relation synset_domain_topic_of\n",
            "sample: development.n.07->['chess.n.02']\n",
            "created matrix for relation member_meronym\n",
            "sample: nelumbonaceae.n.01->['nelumbo.n.01']\n",
            "creating matrices for relations in test set\n",
            "created matrix for relation instance_hypernym\n",
            "sample: andorra.n.01->['european_country.n.01']\n",
            "created matrix for relation derivationally_related_form\n",
            "sample: timbre.n.01->['tone.v.02']\n",
            "created matrix for relation hypernym\n",
            "sample: gentleman.n.01->['man.n.01']\n",
            "created matrix for relation has_part\n",
            "sample: barrel.n.02->['hoop.n.02']\n",
            "created matrix for relation member_of_domain_usage\n",
            "sample: euphemism.n.01->['asleep.s.03']\n",
            "created matrix for relation verb_group\n",
            "sample: steamroller.v.01->['steamroller.v.04']\n",
            "created matrix for relation member_of_domain_region\n",
            "sample: libya.n.01->['libyan_islamic_fighting_group.n.01']\n",
            "created matrix for relation similar_to\n",
            "sample: colored.a.01->['cream-colored.s.01']\n",
            "created matrix for relation also_see\n",
            "sample: unrhythmical.a.01->['irregular.a.01']\n",
            "created matrix for relation synset_domain_topic_of\n",
            "sample: saponify.v.02->['chemistry.n.01']\n",
            "created matrix for relation member_meronym\n",
            "sample: mayetiola.n.01->['hessian_fly.n.01']\n",
            "saving dataset\n",
            "done!\n"
          ]
        }
      ]
    },
    {
      "cell_type": "code",
      "source": [
        "import nltk\n",
        "nltk.download('wordnet')"
      ],
      "metadata": {
        "colab": {
          "base_uri": "https://localhost:8080/"
        },
        "id": "ttBDEm1snctY",
        "outputId": "8d5226ee-3dca-4d39-e62b-025ebd27f294"
      },
      "execution_count": null,
      "outputs": [
        {
          "output_type": "stream",
          "name": "stdout",
          "text": [
            "[nltk_data] Downloading package wordnet to /root/nltk_data...\n",
            "[nltk_data]   Unzipping corpora/wordnet.zip.\n"
          ]
        },
        {
          "output_type": "execute_result",
          "data": {
            "text/plain": [
              "True"
            ]
          },
          "metadata": {},
          "execution_count": 6
        }
      ]
    },
    {
      "cell_type": "code",
      "source": [
        "%cd /content/drive/MyDrive/10708/m3gm-master/data\n",
        "!python embed_from_words.py wiki-news-300d-1M.vec ft-embs-all-lower.vec"
      ],
      "metadata": {
        "colab": {
          "base_uri": "https://localhost:8080/"
        },
        "id": "Gi141-4nh4c3",
        "outputId": "16447e69-ce33-4ae3-a012-0eead1a476a8"
      },
      "execution_count": null,
      "outputs": [
        {
          "output_type": "stream",
          "name": "stdout",
          "text": [
            "2022-03-13 19:20:50.184081\tread 117659 synsets\n",
            "2022-03-13 19:20:50.184156\tpreparing target word dataset\n",
            "100% 117659/117659 [00:00<00:00, 483892.35it/s]\n",
            "2022-03-13 19:20:50.429026\treading input file\n",
            "tcmalloc: large alloc 2259091456 bytes == 0x5564e0408000 @  0x7f8aee4e41e7 0x5564db584518 0x5564db54ed17 0x5564db6ce1f5 0x5564db6688f8 0x5564db5525d2 0x5564db63197e 0x5564db552229 0x5564db644b3d 0x5564db5c6458 0x5564db5c102f 0x5564db553aba 0x5564db5c62c0 0x5564db5c102f 0x5564db553aba 0x5564db5c62c0 0x5564db5c102f 0x5564db553aba 0x5564db5c62c0 0x5564db5c102f 0x5564db5c0d43 0x5564db68b302 0x5564db68b67d 0x5564db68b526 0x5564db6631d3 0x5564db662e7c 0x7f8aed2cec87 0x5564db662d5a\n",
            "tcmalloc: large alloc 2259091456 bytes == 0x556566e78000 @  0x7f8aee4e41e7 0x5564db584518 0x5564db599b6c 0x5564db627b5b 0x5564db552229 0x5564db552120 0x5564db5c6679 0x5564db5c102f 0x5564db553aba 0x5564db5c62c0 0x5564db5c102f 0x5564db553aba 0x5564db5c62c0 0x5564db5c102f 0x5564db553aba 0x5564db5c62c0 0x5564db5c102f 0x5564db5c0d43 0x5564db68b302 0x5564db68b67d 0x5564db68b526 0x5564db6631d3 0x5564db662e7c 0x7f8aed2cec87 0x5564db662d5a\n",
            "tcmalloc: large alloc 4518182912 bytes == 0x5565ed8e8000 @  0x7f8aee4e41e7 0x5564db584518 0x5564db59b9e6 0x5564db59b6c8 0x5564db5a8bdf 0x5564db59a1eb 0x5564db627b5b 0x5564db552229 0x5564db552120 0x5564db5c6679 0x5564db5c102f 0x5564db553aba 0x5564db5c62c0 0x5564db5c102f 0x5564db553aba 0x5564db5c62c0 0x5564db5c102f 0x5564db553aba 0x5564db5c62c0 0x5564db5c102f 0x5564db5c0d43 0x5564db68b302 0x5564db68b67d 0x5564db68b526 0x5564db6631d3 0x5564db662e7c 0x7f8aed2cec87 0x5564db662d5a\n",
            "tcmalloc: large alloc 9036357632 bytes == 0x5566fb5c8000 @  0x7f8aee4e41e7 0x5564db584518 0x5564db59b945 0x5564db59b6c8 0x5564db5a8bdf 0x5564db59a1eb 0x5564db627b5b 0x5564db552229 0x5564db552120 0x5564db5c6679 0x5564db5c102f 0x5564db553aba 0x5564db5c62c0 0x5564db5c102f 0x5564db553aba 0x5564db5c62c0 0x5564db5c102f 0x5564db553aba 0x5564db5c62c0 0x5564db5c102f 0x5564db5c0d43 0x5564db68b302 0x5564db68b67d 0x5564db68b526 0x5564db6631d3 0x5564db662e7c 0x7f8aed2cec87 0x5564db662d5a\n",
            "^C\n"
          ]
        }
      ]
    },
    {
      "cell_type": "code",
      "source": [
        "!python predict_wn18.py --input data/sparse_wn18_matrices.pkl --emb-size 300 --model models/pret_transE-ep-04 --model-only-init --assoc-mode transE --eval-dev --no-assoc-bp --epochs 3 --neg-samp 10 --regularize 0.01 --rand-all --skip-symmetrics --model-out models/from_pret_transE-3eps --rerank-out from_pret_transE-3eps.txt"
      ],
      "metadata": {
        "colab": {
          "base_uri": "https://localhost:8080/"
        },
        "id": "O10u5jIfxmjN",
        "outputId": "6f53472f-3285-4200-ca4e-66fbc18ae577"
      },
      "execution_count": null,
      "outputs": [
        {
          "output_type": "stream",
          "name": "stdout",
          "text": [
            "[dynet] random seed: 3609264020\n",
            "[dynet] allocating memory: 512MB\n",
            "[dynet] memory allocation done.\n",
            "2022-04-29 06:07:08.404095\tgraphs file = data/sparse_wn18_matrices.pkl\n",
            "2022-04-29 06:07:08.404181\tembeddings file = of size 300\n",
            "2022-04-29 06:07:08.404195\tassociation mode = transE\n",
            "2022-04-29 06:07:08.404205\treranker output file = from_pret_transE-3eps.txt\n",
            "2022-04-29 06:07:08.404218\tmodel file = models/pret_transE-ep-04, ergm model file = None\n",
            "2022-04-29 06:07:08.404227\tassociation model not backpropped into\n",
            "2022-04-29 06:07:08.404237\tepochs = 3\n",
            "2022-04-29 06:07:08.404247\tneg-samp = 10\n",
            "2022-04-29 06:07:08.404261\tregularizer labmda = 0.01\n",
            "2022-04-29 06:07:08.404271\tmodel output file = models/from_pret_transE-3eps\n",
            "2022-04-29 06:07:08.404280\ttraining ERGM without symmetric relation iterations\n",
            "2022-04-29 06:07:08.404289\trerank list length = 100\n",
            "2022-04-29 06:07:08.404298\tusing symmetricity rule override for testing\n",
            "2022-04-29 06:07:08.404307\tevaluating dev set\n",
            "2022-04-29 06:07:08.455685\tloading embeddings...\n",
            "2022-04-29 06:07:18.132412\tfinished initialization for association model.\n",
            "2022-04-29 06:07:18.132547\tcomputing ERGM features...\n",
            "2022-04-29 06:07:18.132629\tpopulated edge cache\n",
            "2022-04-29 06:07:18.373675\tpopulated mutual edge cache\n",
            "2022-04-29 06:07:21.718874\textracted directed triangle features\n",
            "2022-04-29 06:07:24.040178\tpopulated transitivity cache\n",
            "2022-04-29 06:07:24.091666\tpopulated 1r-star cache\n",
            "2022-04-29 06:07:25.596196\tpopulated 2r-star cache\n",
            "2022-04-29 06:07:27.959730\tpopulated 3r-star cache\n",
            "2022-04-29 06:07:27.963921\tinitialized features from cache\n",
            "2022-04-29 06:07:27.964013\tfinished! computed 3432 features\n",
            "2022-04-29 06:07:27.964438\t947 non-zero features\n",
            "The dy.parameter(...) call is now DEPRECATED.\n",
            "        There is no longer need to explicitly add parameters to the computation graph.\n",
            "        Any used parameter will be added automatically.\n",
            "2022-04-29 06:07:27.965604\tfinished initialization. initial ERGM score = -4166.02490234375\n",
            "2022-04-29 06:07:27.965947\tstarting training phase, writing to pred-train-log-2022-04-29_06:07:08.404073.txt\n",
            "2022-04-29 06:07:28.714850\tcaching original graph features\n",
            "100% 287735/287735 [7:29:07<00:00, 10.68it/s]\n",
            "100% 41105/41105 [05:39<00:00, 121.10it/s]\n",
            "100% 41105/41105 [02:23<00:00, 285.97it/s]\n",
            "100% 41105/41105 [55:31<00:00, 12.34it/s]\n",
            "100% 41105/41105 [08:54<00:00, 76.92it/s]\n",
            "100% 41105/41105 [01:25<00:00, 478.98it/s]\n",
            "100% 41105/41105 [00:19<00:00, 2068.01it/s]\n",
            "100% 41105/41105 [02:02<00:00, 336.28it/s]\n",
            "100% 41105/41105 [00:15<00:00, 2647.22it/s]\n",
            "100% 41105/41105 [00:19<00:00, 2088.57it/s]\n",
            "100% 41105/41105 [05:59<00:00, 114.22it/s]\n",
            "100% 41105/41105 [04:17<00:00, 159.53it/s]\n",
            "number of instances: 6068\n",
            "total misses: 2406\n",
            "overrides: 2330\n",
            "average rank: 6215.565611605671\n",
            "mrr: 0.4300\n",
            "mq: 0.8487844099940232\n",
            "h@100: 0.60353\n",
            "h@10: 0.49374\n",
            "h@1: 0.39927\n",
            "2022-04-29 15:04:23.444471\tcaching original graph features\n",
            "  0% 0/287735 [00:00<?, ?it/s]tcmalloc: large alloc 3909091328 bytes == 0x1dbf96000 @  0x7f64e2eccb6b 0x7f64e2eec379 0x7f64d3133aed 0x7f64d30960a6 0x7f64d30970e9 0x7f64d30cc9cf 0x7f64d30c6816 0x7f64d3808dba 0x7f64d37d3f38 0x59b1b0 0x515655 0x593dd7 0x511e2c 0x549e0e 0x593fce 0x5118f8 0x549e0e 0x593fce 0x5118f8 0x549576 0x604173 0x5f5506 0x5f8c6c 0x5f9206 0x64faf2 0x64fc4e 0x7f64e2ae7c87 0x5b621a\n",
            "100% 287735/287735 [7:29:07<00:00, 10.68it/s]\n",
            "100% 41105/41105 [05:30<00:00, 124.44it/s]\n",
            "100% 41105/41105 [02:27<00:00, 279.62it/s]\n",
            "100% 41105/41105 [54:58<00:00, 12.46it/s]\n",
            "100% 41105/41105 [08:49<00:00, 77.70it/s]\n",
            "100% 41105/41105 [01:24<00:00, 484.35it/s]\n",
            "100% 41105/41105 [00:20<00:00, 1970.16it/s]\n",
            "100% 41105/41105 [02:01<00:00, 338.98it/s]\n",
            "100% 41105/41105 [00:15<00:00, 2583.79it/s]\n",
            "100% 41105/41105 [00:20<00:00, 1995.17it/s]\n",
            "100% 41105/41105 [05:58<00:00, 114.73it/s]\n",
            "100% 41105/41105 [04:22<00:00, 156.40it/s]\n",
            "number of instances: 6068\n",
            "total misses: 2406\n",
            "overrides: 2330\n",
            "average rank: 6215.735410484669\n",
            "mrr: 0.4282\n",
            "mq: 0.8487802790364765\n",
            "h@100: 0.60353\n",
            "h@10: 0.49143\n",
            "h@1: 0.39812\n",
            "2022-04-30 00:00:37.966089\tcaching original graph features\n",
            " 44% 127800/287735 [3:20:01<3:26:25, 12.91it/s]"
          ]
        }
      ]
    },
    {
      "cell_type": "code",
      "source": [
        ""
      ],
      "metadata": {
        "id": "5_Fk1wao3qSO"
      },
      "execution_count": null,
      "outputs": []
    }
  ]
}